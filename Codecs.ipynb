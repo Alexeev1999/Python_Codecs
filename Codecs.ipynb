{
 "cells": [
  {
   "cell_type": "markdown",
   "metadata": {},
   "source": [
    "## codecs: кодирование/декодирование строк "
   ]
  },
  {
   "cell_type": "markdown",
   "metadata": {},
   "source": [
    "Модуль codecs представляет из себя потоковый и файловый интерфейсы для перекодировки текстовых данных между различными представлениями.\n",
    "\n",
    "Чаще используется для работы с текстом в представлении Unicode."
   ]
  },
  {
   "cell_type": "code",
   "execution_count": 47,
   "metadata": {},
   "outputs": [
    {
     "name": "stdout",
     "output_type": "stream",
     "text": [
      "b'61 62 63 64 65 66'\n",
      "b'6162 6364 6566'\n"
     ]
    }
   ],
   "source": [
    "import binascii\n",
    "\n",
    "def to_hex(t,nbytes):\n",
    "    chars_per_item = nbytes * 2\n",
    "    hex_version = binascii.hexlify(t)\n",
    "    return b' '.join(\n",
    "        hex_version[start:start + chars_per_item]\n",
    "        for start in range (0, len(hex_version), chars_per_item)\n",
    "    )\n",
    "\n",
    "if __name__ == '__main__':\n",
    "    print(to_hex(b'abcdef', 1))\n",
    "    print(to_hex(b'abcdef', 2))"
   ]
  },
  {
   "cell_type": "markdown",
   "metadata": {},
   "source": [
    "Модуль binascii использован в функции для получения шестнадцатиричного представления входной байтовой строки, далее- выставляет пробелы между каждыми nbytes байтами, прежде чем вернуть значение. \n"
   ]
  },
  {
   "cell_type": "markdown",
   "metadata": {},
   "source": [
    "Модуль codecs предоставляет классы, управляющие кодированием и декодированием данных, избавляя приложение от необходимости выполнять работу "
   ]
  },
  {
   "cell_type": "code",
   "execution_count": 70,
   "metadata": {},
   "outputs": [
    {
     "name": "stdout",
     "output_type": "stream",
     "text": [
      "Raw : 'franpais'\n",
      "'f': LATIN SMALL LETTER F\n",
      "'r': LATIN SMALL LETTER R\n",
      "'a': LATIN SMALL LETTER A\n",
      "'n': LATIN SMALL LETTER N\n",
      "'p': LATIN SMALL LETTER P\n",
      "'a': LATIN SMALL LETTER A\n",
      "'i': LATIN SMALL LETTER I\n",
      "'s': LATIN SMALL LETTER S\n",
      "UTF-8: b'66 72 61 6e 70 61 69 73'\n",
      "UTF-16: b'fffe 6600 7200 6100 6e00 7000 6100 6900 7300'\n"
     ]
    }
   ],
   "source": [
    "import unicodedata \n",
    "import codecs\n",
    "\n",
    "\n",
    "text = 'franpais' \n",
    "\n",
    "print ('Raw : {!r}'.format(text)) #представление класса unicode \n",
    "for c in text:\n",
    "    print ('{!r}: {}'. format(c, unicodedata.name(c, c)))\n",
    "print ('UTF-8: {!r}'.format(to_hex(text.encode('utf-8'), 1)))\n",
    "print ('UTF-16: {!r}'.format(to_hex(text.encode('utf-16'), 2)))\n",
    "#кодировка c использованием схем UTF-8 и UTF-16 \n"
   ]
  },
  {
   "cell_type": "markdown",
   "metadata": {},
   "source": [
    "Результат вывода: байты в виде шестнадцатеричных значениях \n",
    "\n",
    "Результатом кодирования строки str является bytes\n"
   ]
  },
  {
   "cell_type": "markdown",
   "metadata": {},
   "source": [
    "Если последовательность кодированных байтов задана в виде экземпляра\n",
    "bytes, метод decode () преобразует байты в кодовые точки и возвращает последовательность в виде экземпляра str\n",
    "\n",
    "(!) Вводимый тип не зависит от выбора исходной кодировки"
   ]
  },
  {
   "cell_type": "code",
   "execution_count": 71,
   "metadata": {},
   "outputs": [
    {
     "name": "stdout",
     "output_type": "stream",
     "text": [
      "Original : 'franpais'\n",
      "Encoded : b'66 72 61 6e 70 61 69 73' <class 'bytes'>\n",
      "Decoded : 'franpais' <class 'str'>\n"
     ]
    }
   ],
   "source": [
    "\n",
    "text = 'franpais' \n",
    "encoded = text.encode ('utf-8')\n",
    "decoded = encoded.decode ('utf-8')\n",
    "\n",
    "print('Original :', repr(text))\n",
    "print('Encoded :', to_hex(encoded, 1), type(encoded))\n",
    "print('Decoded :', repr(decoded), type(decoded))"
   ]
  },
  {
   "cell_type": "markdown",
   "metadata": {},
   "source": [
    "#### Порядок байтов\n"
   ]
  },
  {
   "cell_type": "markdown",
   "metadata": {},
   "source": [
    "В модуле codecs определены константы, которые служат маркерами порядка байтов, используемыми кодировками UTF-16 и UTF-32\n",
    "\n",
    "Например, кодировка UTF-16 определена таким образом, что кодам 0xFFFE и 0xFEFF не соответствуют никакие допустимые символы, и их можно использовать для указания порядка байтов."
   ]
  },
  {
   "cell_type": "code",
   "execution_count": 87,
   "metadata": {},
   "outputs": [
    {
     "name": "stdout",
     "output_type": "stream",
     "text": [
      "BOM          : b'fffe'\n",
      "BOM_BE       : b'feff'\n",
      "BOM_LE       : b'fffe'\n",
      "BOM_UTF8     : b'efbb bf'\n",
      "BOM_UTF16    : b'fffe'\n",
      "BOM_UTF16_BE : b'feff'\n",
      "BOM_UTF16_LE : b'fffe'\n",
      "BOM_UTF32    : b'fffe 0000'\n",
      "BOM_UTF32_BE : b'0000 feff'\n",
      "BOM_UTF32_LE : b'fffe 0000'\n"
     ]
    }
   ],
   "source": [
    "import codecs\n",
    "\n",
    "BOM_TYPES = [\n",
    "    'BOM', 'BOM_BE', 'BOM_LE',\n",
    "    'BOM_UTF8',\n",
    "    'BOM_UTF16', 'BOM_UTF16_BE', 'BOM_UTF16_LE',\n",
    "    'BOM_UTF32', 'BOM_UTF32_BE', 'BOM_UTF32_LE',\n",
    "]\n",
    "\n",
    "for name in BOM_TYPES:\n",
    "    print('{:12} : {}'.format(\n",
    "    name, to_hex(getattr(codecs, name), 2)))"
   ]
  },
  {
   "cell_type": "markdown",
   "metadata": {},
   "source": [
    "Для констант BOM, BOM_UTF16 и BOM_UTF32 автоматически устанавливаются\n",
    "значения, соответствующие прямому (“от старшего к младшему” — big-endian) или обратному (“от младшего к старшему“ — little-endian) порядку байтов, в зависимости от собственного машинного порядка следования байтов в данной системе"
   ]
  },
  {
   "cell_type": "markdown",
   "metadata": {},
   "source": [
    "Порядок следования байтов автоматически распознается и обрабатывается де-\n",
    "кодерами модуля codecs,"
   ]
  },
  {
   "cell_type": "markdown",
   "metadata": {},
   "source": [
    "#### Иные кодировки  "
   ]
  },
  {
   "cell_type": "markdown",
   "metadata": {},
   "source": [
    "Несмотря на то что в большинстве предыдущих примеров использовались кодировки Unicode, модуль codecs может работать не только c ними. Например,\n",
    "Python включает кодеки для работы c кодировками base64, bzip2, ROT-13, ZIP и многими другими."
   ]
  },
  {
   "cell_type": "code",
   "execution_count": 91,
   "metadata": {},
   "outputs": [
    {
     "name": "stdout",
     "output_type": "stream",
     "text": [
      "Original: abcdefghijklmnopqrstuvwxyz\n",
      "ROT-13 : nopqrstuvwxyzabcdefghijklm\n"
     ]
    }
   ],
   "source": [
    "import codecs\n",
    "import io\n",
    "\n",
    "buffer = io.StringIO()\n",
    "stream = codecs.getwriter('rot_13')(buffer)\n",
    "\n",
    "text = 'abcdefghijklmnopqrstuvwxyz'\n",
    "\n",
    "stream.write(text)\n",
    "stream.flush()\n",
    "\n",
    "print('Original:', text)\n",
    "print('ROT-13 :', buffer.getvalue())"
   ]
  },
  {
   "cell_type": "markdown",
   "metadata": {},
   "source": [
    "Использование модуля codecs для обертывания потока данных предоставля-\n",
    "ет более простой интерфейс, чем работа непосредственно c модулем zlib"
   ]
  },
  {
   "cell_type": "code",
   "execution_count": 95,
   "metadata": {},
   "outputs": [
    {
     "name": "stdout",
     "output_type": "stream",
     "text": [
      "Original length : 1350\n",
      "ZIP compressed : 48\n",
      "Read first line : b'abcdefghijklmnopqrstuvwxyz\\n'\n",
      "Uncompressed : 1350\n",
      "Same : True\n"
     ]
    }
   ],
   "source": [
    "\n",
    "buffer = io.BytesIO()\n",
    "stream = codecs.getwriter('zlib')(buffer)\n",
    "\n",
    "text = b'abcdefghijklmnopqrstuvwxyz\\n' * 50\n",
    "\n",
    "stream.write(text)\n",
    "stream.flush()\n",
    "\n",
    "print('Original length :', len(text))\n",
    "compressed_data = buffer.getvalue()\n",
    "print('ZIP compressed :', len(compressed_data))\n",
    "\n",
    "buffer = io.BytesIO(compressed_data)\n",
    "stream = codecs.getreader('zlib')(buffer)\n",
    "\n",
    "first_line = stream.readline()\n",
    "print('Read first line :', repr(first_line))\n",
    "\n",
    "uncompressed_data = first_line + stream.read()\n",
    "print('Uncompressed :', len(uncompressed_data))\n",
    "print('Same :', text == uncompressed_data)"
   ]
  },
  {
   "cell_type": "markdown",
   "metadata": {},
   "source": [
    "Не все алгоритмы сжатия или кодирования поддерживают чтение данных порциями через потоковый интерфейс c помощью функций readline () или read (),\n",
    "поскольку они должны находить конец сжатого сегмента для распаковки данных.\n",
    "\n",
    "Если программа не может сохранить полный распакованный набор данных в памяти, то вместо модуля codecs следует использовать возможности инкрементного доступа библиотеки сжатия."
   ]
  },
  {
   "cell_type": "markdown",
   "metadata": {},
   "source": [
    "#### Unicode и сетевой обмен данными\n"
   ]
  },
  {
   "cell_type": "markdown",
   "metadata": {},
   "source": [
    "Сетевые сокеты — это байтовые потоки, и в отличие от стандартных потоков\n",
    "вода-вывода они по умолчанию не поддерживают преобразование данных."
   ]
  },
  {
   "cell_type": "code",
   "execution_count": null,
   "metadata": {},
   "outputs": [],
   "source": [
    "#cервер пытается возвращать переданные ему данные отправителю\n",
    "import sys\n",
    "import socketserver\n",
    "\n",
    "class Echo(socketserver.BaseRequestHandler):\n",
    "    \n",
    "    def handle(self):\n",
    "        # Получить байты и вернуть их клиенту\n",
    "        data = self.request.recv(1024)\n",
    "        self.request.send(data)\n",
    "        return\n",
    "    \n",
    "if __name__ == '__main__' :\n",
    "    import codecs\n",
    "    import socket\n",
    "    import threading\n",
    "\n",
    "    address = ('localhost', 0) # позволить ядру назначить порт\n",
    "    server = socketserver.TCPServer(address, Echo)\n",
    "    ip, port = server.server_address # Какой порт назначен?\n",
    "\n",
    "    t = threading.Thread(target=server.serve_forever)\n",
    "    t.setDaemon(True) # превратить поток в поток-демон\n",
    "    t.start()\n",
    "\n",
    "    # Подключение к серверу\n",
    "    s = socket.socket(socket.AF_INET, socket.SOCK_STREAM)\n",
    "    s.connect((ip, port))\n",
    "    \n",
    "    # Отправка данных\n",
    "    text = 'frangais'\n",
    "    print('Sending :', repr(text))\n",
    "    outgoing.write(text)\n",
    "    outgoing.flush()\n",
    "    \n",
    "    # Получение ответа\n",
    "    response = incoming.read()\n",
    "    print('Received:', repr(response))\n",
    "    \n",
    "    # Освобождение ресурсов\n",
    "    s.close()\n",
    "    server.socket.close()\n",
    "\"\"\"Данные можно было преобразовывать в байты перед каждым вызовом метода\n",
    "send (), но поскольку этого не было сделано, попытка вызова send () приводит к\n",
    "ошибке.\"\"\"\n"
   ]
  },
  {
   "cell_type": "markdown",
   "metadata": {},
   "source": [
    "#### Домашнее задание "
   ]
  },
  {
   "cell_type": "markdown",
   "metadata": {},
   "source": [
    "Преобразовать словосочетание \"hello world\" в численное значение при помощи функции crc32 модуля binascii"
   ]
  }
 ],
 "metadata": {
  "kernelspec": {
   "display_name": "Python 3",
   "language": "python",
   "name": "python3"
  },
  "language_info": {
   "codemirror_mode": {
    "name": "ipython",
    "version": 3
   },
   "file_extension": ".py",
   "mimetype": "text/x-python",
   "name": "python",
   "nbconvert_exporter": "python",
   "pygments_lexer": "ipython3",
   "version": "3.8.0"
  }
 },
 "nbformat": 4,
 "nbformat_minor": 4
}
